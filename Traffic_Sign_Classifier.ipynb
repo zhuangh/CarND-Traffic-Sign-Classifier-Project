{
 "cells": [
  {
   "cell_type": "markdown",
   "metadata": {},
   "source": [
    "# Self-Driving Car Engineer Nanodegree\n",
    "\n",
    "## Deep Learning\n",
    "\n",
    "## Project: Build a Traffic Sign Recognition Classifier\n",
    "\n",
    "In this notebook, a template is provided for you to implement your functionality in stages, which is required to successfully complete this project. If additional code is required that cannot be included in the notebook, be sure that the Python code is successfully imported and included in your submission if necessary. \n",
    "\n",
    "> **Note**: Once you have completed all of the code implementations, you need to finalize your work by exporting the iPython Notebook as an HTML document. Before exporting the notebook to html, all of the code cells need to have been run so that reviewers can see the final implementation and output. You can then export the notebook by using the menu above and navigating to  \\n\",\n",
    "    \"**File -> Download as -> HTML (.html)**. Include the finished document along with this notebook as your submission. \n",
    "\n",
    "In addition to implementing code, there is a writeup to complete. The writeup should be completed in a separate file, which can be either a markdown file or a pdf document. There is a [write up template](https://github.com/udacity/CarND-Traffic-Sign-Classifier-Project/blob/master/writeup_template.md) that can be used to guide the writing process. Completing the code template and writeup template will cover all of the [rubric points](https://review.udacity.com/#!/rubrics/481/view) for this project.\n",
    "\n",
    "The [rubric](https://review.udacity.com/#!/rubrics/481/view) contains \"Stand Out Suggestions\" for enhancing the project beyond the minimum requirements. The stand out suggestions are optional. If you decide to pursue the \"stand out suggestions\", you can include the code in this Ipython notebook and also discuss the results in the writeup file.\n",
    "\n",
    "\n",
    ">**Note:** Code and Markdown cells can be executed using the **Shift + Enter** keyboard shortcut. In addition, Markdown cells can be edited by typically double-clicking the cell to enter edit mode."
   ]
  },
  {
   "cell_type": "markdown",
   "metadata": {},
   "source": [
    "---\n",
    "## Step 0: Load The Data"
   ]
  },
  {
   "cell_type": "code",
   "execution_count": 1,
   "metadata": {
    "collapsed": true
   },
   "outputs": [],
   "source": [
    "# Load pickled data\n",
    "import pickle\n",
    "# Fill this in based on where you saved the training and testing data\n",
    "\n",
    "training_file = \"./data/train.p\"\n",
    "validation_file= \"./data/valid.p\"\n",
    "testing_file = \"./data/test.p\"\n",
    "\n",
    "with open(training_file, mode='rb') as f:\n",
    "    train = pickle.load(f)\n",
    "with open(validation_file, mode='rb') as f:\n",
    "    valid = pickle.load(f)\n",
    "with open(testing_file, mode='rb') as f:\n",
    "    test = pickle.load(f)\n",
    "    \n",
    "X_train_rgb, y_train = train['features'], train['labels']\n",
    "X_valid_rgb, y_valid = valid['features'], valid['labels']\n",
    "X_test_rgb, y_test = test['features'], test['labels']"
   ]
  },
  {
   "cell_type": "markdown",
   "metadata": {},
   "source": [
    "---\n",
    "\n",
    "## Step 1: Dataset Summary & Exploration\n",
    "\n",
    "The pickled data is a dictionary with 4 key/value pairs:\n",
    "\n",
    "- `'features'` is a 4D array containing raw pixel data of the traffic sign images, (num examples, width, height, channels).\n",
    "- `'labels'` is a 1D array containing the label/class id of the traffic sign. The file `signnames.csv` contains id -> name mappings for each id.\n",
    "- `'sizes'` is a list containing tuples, (width, height) representing the original width and height the image.\n",
    "- `'coords'` is a list containing tuples, (x1, y1, x2, y2) representing coordinates of a bounding box around the sign in the image. **THESE COORDINATES ASSUME THE ORIGINAL IMAGE. THE PICKLED DATA CONTAINS RESIZED VERSIONS (32 by 32) OF THESE IMAGES**\n",
    "\n",
    "Complete the basic data summary below. Use python, numpy and/or pandas methods to calculate the data summary rather than hard coding the results. For example, the [pandas shape method](http://pandas.pydata.org/pandas-docs/stable/generated/pandas.DataFrame.shape.html) might be useful for calculating some of the summary results. "
   ]
  },
  {
   "cell_type": "markdown",
   "metadata": {},
   "source": [
    "### Provide a Basic Summary of the Data Set Using Python, Numpy and/or Pandas"
   ]
  },
  {
   "cell_type": "code",
   "execution_count": 2,
   "metadata": {},
   "outputs": [
    {
     "name": "stdout",
     "output_type": "stream",
     "text": [
      "Number of training set = 34799\n",
      "Number of testing set = 12630\n",
      "Number of validation set = 4410\n",
      "Image data shape = (32, 32, 3)\n",
      "Number of classes = 43\n"
     ]
    }
   ],
   "source": [
    "### Replace each question mark with the appropriate value. \n",
    "### Use python, pandas or numpy methods rather than hard coding the results\n",
    "import numpy as np\n",
    "\n",
    "# Number of training examples\n",
    "n_train = X_train_rgb.shape[0]\n",
    "# Number of testing examples.\n",
    "n_test = X_test_rgb.shape[0]\n",
    "# Number of validation examples\n",
    "n_validation = X_valid_rgb.shape[0]\n",
    "# What's the shape of an traffic sign image?\n",
    "image_shape = X_train_rgb.shape[1:]\n",
    "# How many unique classes/labels there are in the dataset.\n",
    "n_classes = len(np.unique(y_train))\n",
    "\n",
    "print(\"Number of training set =\", n_train)\n",
    "print(\"Number of testing set =\", n_test)\n",
    "print(\"Number of validation set =\", n_validation)\n",
    "print(\"Image data shape =\", image_shape)\n",
    "print(\"Number of classes =\", n_classes)"
   ]
  },
  {
   "cell_type": "markdown",
   "metadata": {},
   "source": [
    "### Include an exploratory visualization of the dataset"
   ]
  },
  {
   "cell_type": "markdown",
   "metadata": {},
   "source": [
    "Visualize the German Traffic Signs Dataset using the pickled file(s). This is open ended, suggestions include: plotting traffic sign images, plotting the count of each sign, etc. \n",
    "\n",
    "The [Matplotlib](http://matplotlib.org/) [examples](http://matplotlib.org/examples/index.html) and [gallery](http://matplotlib.org/gallery.html) pages are a great resource for doing visualizations in Python.\n",
    "\n",
    "**NOTE:** It's recommended you start with something simple first. If you wish to do more, come back to it after you've completed the rest of the sections. It can be interesting to look at the distribution of classes in the training, validation and test set. Is the distribution the same? Are there more examples of some classes than others?"
   ]
  },
  {
   "cell_type": "code",
   "execution_count": 3,
   "metadata": {},
   "outputs": [
    {
     "name": "stdout",
     "output_type": "stream",
     "text": [
      "randomly pick from train set\n"
     ]
    },
    {
     "data": {
      "image/png": "[encoded data removed]",
      "text/plain": [
       "<matplotlib.figure.Figure at 0x7f78a181c518>"
      ]
     },
     "metadata": {},
     "output_type": "display_data"
    }
   ],
   "source": [
    "### Data exploration visualization code goes here.\n",
    "### Feel free to use as many code cells as needed.\n",
    "import matplotlib.pyplot as plt\n",
    "# Visualizations will be shown in the notebook.\n",
    "%matplotlib inline\n",
    "\n",
    "import random\n",
    "import csv\n",
    "\n",
    "# https://stackoverflow.com/questions/17210646/python-subplot-within-a-loop-first-panel-appears-in-wrong-position\n",
    "def plot_sign_images(img, nrows, ncols, label, cmap=None):\n",
    "    fig, axs = plt.subplots(ncols=ncols, nrows=nrows, figsize=(12, 6))\n",
    "    axs = axs.ravel() \n",
    "    for index, title in zip(range(len(img)), img):\n",
    "        axs[index].imshow(img[title].squeeze(), cmap=cmap)\n",
    "        if label is not None:\n",
    "            axs[index].set_title(label[index])\n",
    "        else:\n",
    "            axs[index].set_title(title)\n",
    "    plt.tight_layout()\n",
    "\n",
    "\n",
    "label_name = np.genfromtxt('./signnames.csv', skip_header=1,\n",
    "                           dtype=[('myint','i8'), ('mystring','S20')], \n",
    "                           delimiter=',')\n",
    "\n",
    "# sample images from the dataset to display\n",
    "print('randomly pick from train set')\n",
    "plt_sz = 10\n",
    "plt_per_line = 5\n",
    "images_select = {}\n",
    "labels_select = {}\n",
    "index_select = []\n",
    "for i in range(plt_sz):\n",
    "    index = random.randint(0, n_train-1)  \n",
    "    index_select.append(index)\n",
    "    labels_select[i] = label_name[y_train[index]][1].decode('ascii')\n",
    "    images_select[i] = X_train_rgb[index]\n",
    "    \n",
    "plot_sign_images(images_select, int(plt_sz/plt_per_line), plt_per_line , labels_select)"
   ]
  },
  {
   "cell_type": "code",
   "execution_count": 4,
   "metadata": {},
   "outputs": [
    {
     "data": {
      "image/png": "[encoded data removed]",
      "text/plain": [
       "<matplotlib.figure.Figure at 0x7f789ebfacf8>"
      ]
     },
     "metadata": {},
     "output_type": "display_data"
    },
    {
     "data": {
      "image/png": "[encoded data removed]",
      "text/plain": [
       "<matplotlib.figure.Figure at 0x7f789eb52f98>"
      ]
     },
     "metadata": {},
     "output_type": "display_data"
    },
    {
     "data": {
      "image/png": "[encoded data removed]",
      "text/plain": [
       "<matplotlib.figure.Figure at 0x7f789ecee208>"
      ]
     },
     "metadata": {},
     "output_type": "display_data"
    }
   ],
   "source": [
    "# check the distributions of the labels among three subsets of the dataset.\n",
    "uni_train, c_train = np.unique(y_train, return_counts=True)\n",
    "plt.bar(uni_train, c_train)\n",
    "plt.title(\"Train Set\") \n",
    "plt.show()\n",
    "\n",
    "uni_test, c_test = np.unique(y_test, return_counts=True)\n",
    "plt.bar(uni_test, c_test)\n",
    "plt.title(\"Test Set\") \n",
    "plt.show()\n",
    "\n",
    "uni_valid, c_valid = np.unique(y_valid, return_counts=True)\n",
    "plt.bar(uni_valid, c_valid)\n",
    "plt.title(\"Validation Set\") \n",
    "plt.show()"
   ]
  },
  {
   "cell_type": "code",
   "execution_count": 5,
   "metadata": {},
   "outputs": [
    {
     "name": "stdout",
     "output_type": "stream",
     "text": [
      "stat for train set\n",
      "label  0 (0, b'Speed limit (20km/h)')  sample count  180\n",
      "label  1 (1, b'Speed limit (30km/h)')  sample count  1980\n",
      "label  2 (2, b'Speed limit (50km/h)')  sample count  2010\n",
      "label  3 (3, b'Speed limit (60km/h)')  sample count  1260\n",
      "label  4 (4, b'Speed limit (70km/h)')  sample count  1770\n",
      "label  5 (5, b'Speed limit (80km/h)')  sample count  1650\n",
      "label  6 (6, b'End of speed limit (')  sample count  360\n",
      "label  7 (7, b'Speed limit (100km/h')  sample count  1290\n",
      "label  8 (8, b'Speed limit (120km/h')  sample count  1260\n",
      "label  9 (9, b'No passing')  sample count  1320\n",
      "label  10 (10, b'No passing for vehic')  sample count  1800\n",
      "label  11 (11, b'Right-of-way at the ')  sample count  1170\n",
      "label  12 (12, b'Priority road')  sample count  1890\n",
      "label  13 (13, b'Yield')  sample count  1920\n",
      "label  14 (14, b'Stop')  sample count  690\n",
      "label  15 (15, b'No vehicles')  sample count  540\n",
      "label  16 (16, b'Vehicles over 3.5 me')  sample count  360\n",
      "label  17 (17, b'No entry')  sample count  990\n",
      "label  18 (18, b'General caution')  sample count  1080\n",
      "label  19 (19, b'Dangerous curve to t')  sample count  180\n",
      "label  20 (20, b'Dangerous curve to t')  sample count  300\n",
      "label  21 (21, b'Double curve')  sample count  270\n",
      "label  22 (22, b'Bumpy road')  sample count  330\n",
      "label  23 (23, b'Slippery road')  sample count  450\n",
      "label  24 (24, b'Road narrows on the ')  sample count  240\n",
      "label  25 (25, b'Road work')  sample count  1350\n",
      "label  26 (26, b'Traffic signals')  sample count  540\n",
      "label  27 (27, b'Pedestrians')  sample count  210\n",
      "label  28 (28, b'Children crossing')  sample count  480\n",
      "label  29 (29, b'Bicycles crossing')  sample count  240\n",
      "label  30 (30, b'Beware of ice/snow')  sample count  390\n",
      "label  31 (31, b'Wild animals crossin')  sample count  690\n",
      "label  32 (32, b'End of all speed and')  sample count  210\n",
      "label  33 (33, b'Turn right ahead')  sample count  599\n",
      "label  34 (34, b'Turn left ahead')  sample count  360\n",
      "label  35 (35, b'Ahead only')  sample count  1080\n",
      "label  36 (36, b'Go straight or right')  sample count  330\n",
      "label  37 (37, b'Go straight or left')  sample count  180\n",
      "label  38 (38, b'Keep right')  sample count  1860\n",
      "label  39 (39, b'Keep left')  sample count  270\n",
      "label  40 (40, b'Roundabout mandatory')  sample count  300\n",
      "label  41 (41, b'End of no passing')  sample count  210\n",
      "label  42 (42, b'End of no passing by')  sample count  210\n",
      "stat for test set\n",
      "label  0 (0, b'Speed limit (20km/h)')  sample count  60\n",
      "label  1 (1, b'Speed limit (30km/h)')  sample count  720\n",
      "label  2 (2, b'Speed limit (50km/h)')  sample count  750\n",
      "label  3 (3, b'Speed limit (60km/h)')  sample count  450\n",
      "label  4 (4, b'Speed limit (70km/h)')  sample count  660\n",
      "label  5 (5, b'Speed limit (80km/h)')  sample count  630\n",
      "label  6 (6, b'End of speed limit (')  sample count  150\n",
      "label  7 (7, b'Speed limit (100km/h')  sample count  450\n",
      "label  8 (8, b'Speed limit (120km/h')  sample count  450\n",
      "label  9 (9, b'No passing')  sample count  480\n",
      "label  10 (10, b'No passing for vehic')  sample count  660\n",
      "label  11 (11, b'Right-of-way at the ')  sample count  420\n",
      "label  12 (12, b'Priority road')  sample count  690\n",
      "label  13 (13, b'Yield')  sample count  720\n",
      "label  14 (14, b'Stop')  sample count  270\n",
      "label  15 (15, b'No vehicles')  sample count  210\n",
      "label  16 (16, b'Vehicles over 3.5 me')  sample count  150\n",
      "label  17 (17, b'No entry')  sample count  360\n",
      "label  18 (18, b'General caution')  sample count  390\n",
      "label  19 (19, b'Dangerous curve to t')  sample count  60\n",
      "label  20 (20, b'Dangerous curve to t')  sample count  90\n",
      "label  21 (21, b'Double curve')  sample count  90\n",
      "label  22 (22, b'Bumpy road')  sample count  120\n",
      "label  23 (23, b'Slippery road')  sample count  150\n",
      "label  24 (24, b'Road narrows on the ')  sample count  90\n",
      "label  25 (25, b'Road work')  sample count  480\n",
      "label  26 (26, b'Traffic signals')  sample count  180\n",
      "label  27 (27, b'Pedestrians')  sample count  60\n",
      "label  28 (28, b'Children crossing')  sample count  150\n",
      "label  29 (29, b'Bicycles crossing')  sample count  90\n",
      "label  30 (30, b'Beware of ice/snow')  sample count  150\n",
      "label  31 (31, b'Wild animals crossin')  sample count  270\n",
      "label  32 (32, b'End of all speed and')  sample count  60\n",
      "label  33 (33, b'Turn right ahead')  sample count  210\n",
      "label  34 (34, b'Turn left ahead')  sample count  120\n",
      "label  35 (35, b'Ahead only')  sample count  390\n",
      "label  36 (36, b'Go straight or right')  sample count  120\n",
      "label  37 (37, b'Go straight or left')  sample count  60\n",
      "label  38 (38, b'Keep right')  sample count  690\n",
      "label  39 (39, b'Keep left')  sample count  90\n",
      "label  40 (40, b'Roundabout mandatory')  sample count  90\n",
      "label  41 (41, b'End of no passing')  sample count  60\n",
      "label  42 (42, b'End of no passing by')  sample count  90\n",
      "stat for valid set\n",
      "label  0 (0, b'Speed limit (20km/h)')  sample count  30\n",
      "label  1 (1, b'Speed limit (30km/h)')  sample count  240\n",
      "label  2 (2, b'Speed limit (50km/h)')  sample count  240\n",
      "label  3 (3, b'Speed limit (60km/h)')  sample count  150\n",
      "label  4 (4, b'Speed limit (70km/h)')  sample count  210\n",
      "label  5 (5, b'Speed limit (80km/h)')  sample count  210\n",
      "label  6 (6, b'End of speed limit (')  sample count  60\n",
      "label  7 (7, b'Speed limit (100km/h')  sample count  150\n",
      "label  8 (8, b'Speed limit (120km/h')  sample count  150\n",
      "label  9 (9, b'No passing')  sample count  150\n",
      "label  10 (10, b'No passing for vehic')  sample count  210\n",
      "label  11 (11, b'Right-of-way at the ')  sample count  150\n",
      "label  12 (12, b'Priority road')  sample count  210\n",
      "label  13 (13, b'Yield')  sample count  240\n",
      "label  14 (14, b'Stop')  sample count  90\n",
      "label  15 (15, b'No vehicles')  sample count  90\n",
      "label  16 (16, b'Vehicles over 3.5 me')  sample count  60\n",
      "label  17 (17, b'No entry')  sample count  120\n",
      "label  18 (18, b'General caution')  sample count  120\n",
      "label  19 (19, b'Dangerous curve to t')  sample count  30\n",
      "label  20 (20, b'Dangerous curve to t')  sample count  60\n",
      "label  21 (21, b'Double curve')  sample count  60\n",
      "label  22 (22, b'Bumpy road')  sample count  60\n",
      "label  23 (23, b'Slippery road')  sample count  60\n",
      "label  24 (24, b'Road narrows on the ')  sample count  30\n",
      "label  25 (25, b'Road work')  sample count  150\n",
      "label  26 (26, b'Traffic signals')  sample count  60\n",
      "label  27 (27, b'Pedestrians')  sample count  30\n",
      "label  28 (28, b'Children crossing')  sample count  60\n",
      "label  29 (29, b'Bicycles crossing')  sample count  30\n",
      "label  30 (30, b'Beware of ice/snow')  sample count  60\n",
      "label  31 (31, b'Wild animals crossin')  sample count  90\n",
      "label  32 (32, b'End of all speed and')  sample count  30\n",
      "label  33 (33, b'Turn right ahead')  sample count  90\n",
      "label  34 (34, b'Turn left ahead')  sample count  60\n",
      "label  35 (35, b'Ahead only')  sample count  120\n",
      "label  36 (36, b'Go straight or right')  sample count  60\n",
      "label  37 (37, b'Go straight or left')  sample count  30\n",
      "label  38 (38, b'Keep right')  sample count  210\n",
      "label  39 (39, b'Keep left')  sample count  30\n",
      "label  40 (40, b'Roundabout mandatory')  sample count  60\n",
      "label  41 (41, b'End of no passing')  sample count  30\n",
      "label  42 (42, b'End of no passing by')  sample count  30\n"
     ]
    }
   ],
   "source": [
    "def stat_data_set(set_data):\n",
    "    sign_class, _, sign_class_sample = np.unique(set_data, return_index=True, return_counts = True)\n",
    "    for c, s in zip(sign_class, sign_class_sample):\n",
    "        print('label ', c, label_name[c], ' sample count ', s)\n",
    "\n",
    "print('stat for train set')\n",
    "stat_data_set(y_train)\n",
    "\n",
    "print('stat for test set')\n",
    "stat_data_set(y_test)\n",
    "\n",
    "print('stat for valid set')\n",
    "stat_data_set(y_valid)"
   ]
  },
  {
   "cell_type": "code",
   "execution_count": 6,
   "metadata": {},
   "outputs": [
    {
     "data": {
      "text/plain": [
       "<matplotlib.text.Text at 0x7f789ec3d208>"
      ]
     },
     "execution_count": 6,
     "metadata": {},
     "output_type": "execute_result"
    },
    {
     "data": {
      "image/png": "[encoded data removed]",
      "text/plain": [
       "<matplotlib.figure.Figure at 0x7f789eb60630>"
      ]
     },
     "metadata": {},
     "output_type": "display_data"
    }
   ],
   "source": [
    "import cv2        \n",
    "def transform_image(img):\n",
    "    fx = random.uniform(1.1, 1.5)\n",
    "    fy = fx\n",
    "    return cv2.resize(img,None,fx=fx, fy=fy, interpolation = cv2.INTER_CUBIC)[0:32, 0:32,:]\n",
    "\n",
    "fig, axes = plt.subplots(ncols=2, figsize=(5,10))\n",
    "randomIdx = random.randint(0, len(X_train_rgb))\n",
    "axes[0].imshow(X_train_rgb[randomIdx])\n",
    "axes[0].set_title('Original')\n",
    "axes[1].imshow(transform_image(X_train_rgb[randomIdx]))\n",
    "axes[1].set_title('Scaled')\n"
   ]
  },
  {
   "cell_type": "code",
   "execution_count": 7,
   "metadata": {},
   "outputs": [
    {
     "name": "stdout",
     "output_type": "stream",
     "text": [
      "label  0 (0, b'Speed limit (20km/h)')  sample count  180\n",
      "label  1 (1, b'Speed limit (30km/h)')  sample count  1980\n",
      "label  2 (2, b'Speed limit (50km/h)')  sample count  2010\n",
      "label  3 (3, b'Speed limit (60km/h)')  sample count  1260\n",
      "label  4 (4, b'Speed limit (70km/h)')  sample count  1770\n",
      "label  5 (5, b'Speed limit (80km/h)')  sample count  1650\n",
      "label  6 (6, b'End of speed limit (')  sample count  360\n",
      "label  7 (7, b'Speed limit (100km/h')  sample count  1290\n",
      "label  8 (8, b'Speed limit (120km/h')  sample count  1260\n",
      "label  9 (9, b'No passing')  sample count  1320\n",
      "label  10 (10, b'No passing for vehic')  sample count  1800\n",
      "label  11 (11, b'Right-of-way at the ')  sample count  1170\n",
      "label  12 (12, b'Priority road')  sample count  1890\n",
      "label  13 (13, b'Yield')  sample count  1920\n",
      "label  14 (14, b'Stop')  sample count  690\n",
      "label  15 (15, b'No vehicles')  sample count  540\n",
      "label  16 (16, b'Vehicles over 3.5 me')  sample count  360\n",
      "label  17 (17, b'No entry')  sample count  990\n",
      "label  18 (18, b'General caution')  sample count  1080\n",
      "label  19 (19, b'Dangerous curve to t')  sample count  180\n",
      "label  20 (20, b'Dangerous curve to t')  sample count  300\n",
      "label  21 (21, b'Double curve')  sample count  270\n",
      "label  22 (22, b'Bumpy road')  sample count  330\n",
      "label  23 (23, b'Slippery road')  sample count  450\n",
      "label  24 (24, b'Road narrows on the ')  sample count  240\n",
      "label  25 (25, b'Road work')  sample count  1350\n",
      "label  26 (26, b'Traffic signals')  sample count  540\n",
      "label  27 (27, b'Pedestrians')  sample count  210\n",
      "label  28 (28, b'Children crossing')  sample count  480\n",
      "label  29 (29, b'Bicycles crossing')  sample count  240\n",
      "label  30 (30, b'Beware of ice/snow')  sample count  390\n",
      "label  31 (31, b'Wild animals crossin')  sample count  690\n",
      "label  32 (32, b'End of all speed and')  sample count  210\n",
      "label  33 (33, b'Turn right ahead')  sample count  599\n",
      "label  34 (34, b'Turn left ahead')  sample count  360\n",
      "label  35 (35, b'Ahead only')  sample count  1080\n",
      "label  36 (36, b'Go straight or right')  sample count  330\n",
      "label  37 (37, b'Go straight or left')  sample count  180\n",
      "label  38 (38, b'Keep right')  sample count  1860\n",
      "label  39 (39, b'Keep left')  sample count  270\n",
      "label  40 (40, b'Roundabout mandatory')  sample count  300\n",
      "label  41 (41, b'End of no passing')  sample count  210\n",
      "label  42 (42, b'End of no passing by')  sample count  210\n",
      "label  0 (0, b'Speed limit (20km/h)')  sample count  900\n",
      "label  1 (1, b'Speed limit (30km/h)')  sample count  9900\n",
      "label  2 (2, b'Speed limit (50km/h)')  sample count  10050\n",
      "label  3 (3, b'Speed limit (60km/h)')  sample count  6300\n",
      "label  4 (4, b'Speed limit (70km/h)')  sample count  8850\n",
      "label  5 (5, b'Speed limit (80km/h)')  sample count  8250\n",
      "label  6 (6, b'End of speed limit (')  sample count  1800\n",
      "label  7 (7, b'Speed limit (100km/h')  sample count  6450\n",
      "label  8 (8, b'Speed limit (120km/h')  sample count  6300\n",
      "label  9 (9, b'No passing')  sample count  6600\n",
      "label  10 (10, b'No passing for vehic')  sample count  9000\n",
      "label  11 (11, b'Right-of-way at the ')  sample count  5850\n",
      "label  12 (12, b'Priority road')  sample count  9450\n",
      "label  13 (13, b'Yield')  sample count  9600\n",
      "label  14 (14, b'Stop')  sample count  3450\n",
      "label  15 (15, b'No vehicles')  sample count  2700\n",
      "label  16 (16, b'Vehicles over 3.5 me')  sample count  1800\n",
      "label  17 (17, b'No entry')  sample count  4950\n",
      "label  18 (18, b'General caution')  sample count  5400\n",
      "label  19 (19, b'Dangerous curve to t')  sample count  900\n",
      "label  20 (20, b'Dangerous curve to t')  sample count  1500\n",
      "label  21 (21, b'Double curve')  sample count  1350\n",
      "label  22 (22, b'Bumpy road')  sample count  1650\n",
      "label  23 (23, b'Slippery road')  sample count  2250\n",
      "label  24 (24, b'Road narrows on the ')  sample count  1200\n",
      "label  25 (25, b'Road work')  sample count  6750\n",
      "label  26 (26, b'Traffic signals')  sample count  2700\n",
      "label  27 (27, b'Pedestrians')  sample count  1050\n",
      "label  28 (28, b'Children crossing')  sample count  2400\n",
      "label  29 (29, b'Bicycles crossing')  sample count  1200\n",
      "label  30 (30, b'Beware of ice/snow')  sample count  1950\n",
      "label  31 (31, b'Wild animals crossin')  sample count  3450\n",
      "label  32 (32, b'End of all speed and')  sample count  1050\n",
      "label  33 (33, b'Turn right ahead')  sample count  2995\n",
      "label  34 (34, b'Turn left ahead')  sample count  1800\n",
      "label  35 (35, b'Ahead only')  sample count  5400\n",
      "label  36 (36, b'Go straight or right')  sample count  1650\n",
      "label  37 (37, b'Go straight or left')  sample count  900\n",
      "label  38 (38, b'Keep right')  sample count  9300\n",
      "label  39 (39, b'Keep left')  sample count  1350\n",
      "label  40 (40, b'Roundabout mandatory')  sample count  1500\n",
      "label  41 (41, b'End of no passing')  sample count  1050\n",
      "label  42 (42, b'End of no passing by')  sample count  1050\n",
      "(34799, 32, 32, 3)\n",
      "(173995, 32, 32, 3)\n"
     ]
    },
    {
     "data": {
      "image/png": "[encoded data removed]",
      "text/plain": [
       "<matplotlib.figure.Figure at 0x7f789ec50b70>"
      ]
     },
     "metadata": {},
     "output_type": "display_data"
    },
    {
     "data": {
      "image/png": "[encoded data removed]",
      "text/plain": [
       "<matplotlib.figure.Figure at 0x7f7894d1ddd8>"
      ]
     },
     "metadata": {},
     "output_type": "display_data"
    },
    {
     "name": "stdout",
     "output_type": "stream",
     "text": [
      "label  0 (0, b'Speed limit (20km/h)')  sample count  1080\n",
      "label  1 (1, b'Speed limit (30km/h)')  sample count  11880\n",
      "label  2 (2, b'Speed limit (50km/h)')  sample count  12060\n",
      "label  3 (3, b'Speed limit (60km/h)')  sample count  7560\n",
      "label  4 (4, b'Speed limit (70km/h)')  sample count  10620\n",
      "label  5 (5, b'Speed limit (80km/h)')  sample count  9900\n",
      "label  6 (6, b'End of speed limit (')  sample count  2160\n",
      "label  7 (7, b'Speed limit (100km/h')  sample count  7740\n",
      "label  8 (8, b'Speed limit (120km/h')  sample count  7560\n",
      "label  9 (9, b'No passing')  sample count  7920\n",
      "label  10 (10, b'No passing for vehic')  sample count  10800\n",
      "label  11 (11, b'Right-of-way at the ')  sample count  7020\n",
      "label  12 (12, b'Priority road')  sample count  11340\n",
      "label  13 (13, b'Yield')  sample count  11520\n",
      "label  14 (14, b'Stop')  sample count  4140\n",
      "label  15 (15, b'No vehicles')  sample count  3240\n",
      "label  16 (16, b'Vehicles over 3.5 me')  sample count  2160\n",
      "label  17 (17, b'No entry')  sample count  5940\n",
      "label  18 (18, b'General caution')  sample count  6480\n",
      "label  19 (19, b'Dangerous curve to t')  sample count  1080\n",
      "label  20 (20, b'Dangerous curve to t')  sample count  1800\n",
      "label  21 (21, b'Double curve')  sample count  1620\n",
      "label  22 (22, b'Bumpy road')  sample count  1980\n",
      "label  23 (23, b'Slippery road')  sample count  2700\n",
      "label  24 (24, b'Road narrows on the ')  sample count  1440\n",
      "label  25 (25, b'Road work')  sample count  8100\n",
      "label  26 (26, b'Traffic signals')  sample count  3240\n",
      "label  27 (27, b'Pedestrians')  sample count  1260\n",
      "label  28 (28, b'Children crossing')  sample count  2880\n",
      "label  29 (29, b'Bicycles crossing')  sample count  1440\n",
      "label  30 (30, b'Beware of ice/snow')  sample count  2340\n",
      "label  31 (31, b'Wild animals crossin')  sample count  4140\n",
      "label  32 (32, b'End of all speed and')  sample count  1260\n",
      "label  33 (33, b'Turn right ahead')  sample count  3594\n",
      "label  34 (34, b'Turn left ahead')  sample count  2160\n",
      "label  35 (35, b'Ahead only')  sample count  6480\n",
      "label  36 (36, b'Go straight or right')  sample count  1980\n",
      "label  37 (37, b'Go straight or left')  sample count  1080\n",
      "label  38 (38, b'Keep right')  sample count  11160\n",
      "label  39 (39, b'Keep left')  sample count  1620\n",
      "label  40 (40, b'Roundabout mandatory')  sample count  1800\n",
      "label  41 (41, b'End of no passing')  sample count  1260\n",
      "label  42 (42, b'End of no passing by')  sample count  1260\n"
     ]
    }
   ],
   "source": [
    "# augmented data process\n",
    "def genData(input_data, input_labels, n_classes):\n",
    "    hist, _ = np.histogram(input_labels, n_classes, normed=True)\n",
    "    sLabel = []\n",
    "    for index, v in enumerate(hist):\n",
    "        sLabel.append(index)\n",
    "    newInput = []\n",
    "    newLabels = []\n",
    "    for index, label in enumerate(input_labels):\n",
    "        if label in sLabel:\n",
    "            for i in range(0, 5):  # generate 5 data samples             \n",
    "                newLabels.append(label)\n",
    "                img_ = transform_image(input_data[index])\n",
    "                newInput.append(img_)\n",
    "    its = np.array(newInput)\n",
    "    return (np.array(newInput), np.array(newLabels))\n",
    "\n",
    "X_train_rgb_new, y_train_new = genData(X_train_rgb, y_train, 43)\n",
    "stat_data_set(y_train)\n",
    "stat_data_set(y_train_new)\n",
    "print(X_train_rgb.shape)\n",
    "print(X_train_rgb_new.shape)\n",
    "X_train_rgb_aug = np.concatenate((X_train_rgb, X_train_rgb_new), axis=0)\n",
    "y_train_aug = np.concatenate((y_train, y_train_new), axis=0)\n",
    "\n",
    "\n",
    "uni_train, c_train = np.unique(y_train, return_counts=True)\n",
    "plt.bar(uni_train, c_train)\n",
    "plt.title(\"Train Set\") \n",
    "plt.show()\n",
    "\n",
    "uni_train_aug, c_train_aug = np.unique(y_train_aug, return_counts=True)\n",
    "plt.bar(uni_train_aug, c_train_aug)\n",
    "plt.title(\"Augmentation Train Set\") \n",
    "plt.show()\n",
    "\n",
    "stat_data_set(y_train_aug)\n",
    " \n",
    "\n"
   ]
  },
  {
   "cell_type": "markdown",
   "metadata": {},
   "source": [
    "### Pre-process the Data Set (normalization, grayscale, etc.)"
   ]
  },
  {
   "cell_type": "markdown",
   "metadata": {},
   "source": [
    "Minimally, the image data should be normalized so that the data has mean zero and equal variance. For image data, `(pixel - 128)/ 128` is a quick way to approximately normalize the data and can be used in this project. \n",
    "\n",
    "Other pre-processing steps are optional. You can try different techniques to see if it improves performance. \n",
    "\n",
    "Use the code cell (or multiple code cells, if necessary) to implement the first step of your project."
   ]
  },
  {
   "cell_type": "code",
   "execution_count": 8,
   "metadata": {},
   "outputs": [
    {
     "name": "stdout",
     "output_type": "stream",
     "text": [
      "(34799, 32, 32, 3)\n",
      "(34799, 32, 32, 1)\n",
      "(208794, 32, 32, 1)\n"
     ]
    }
   ],
   "source": [
    "### Preprocess the data here. It is required to normalize the data. Other preprocessing steps could include \n",
    "### converting to grayscale, etc.\n",
    "### Feel free to use as many code cells as needed.\n",
    "import tensorflow as tf\n",
    "from math import ceil\n",
    "from sklearn.utils import shuffle\n",
    "import cv2 \n",
    "# Convert to grayscale\n",
    "X_train_gray = np.sum(X_train_rgb/3, axis=3, keepdims=True)\n",
    "X_test_gray = np.sum(X_test_rgb/3, axis=3, keepdims=True)\n",
    "X_valid_gray = np.sum(X_valid_rgb/3, axis=3, keepdims=True)\n",
    "X_train_gray_aug =  np.sum(X_train_rgb_aug/3, axis=3, keepdims=True)\n",
    "\n",
    "print(X_train_rgb.shape)  \n",
    "print(X_train_gray.shape)\n",
    "print(X_train_gray_aug.shape)\n",
    "                      "
   ]
  },
  {
   "cell_type": "code",
   "execution_count": 9,
   "metadata": {},
   "outputs": [
    {
     "data": {
      "image/png": "[encoded data removed]",
      "text/plain": [
       "<matplotlib.figure.Figure at 0x7f78a13dc438>"
      ]
     },
     "metadata": {},
     "output_type": "display_data"
    }
   ],
   "source": [
    "images_gray = {}\n",
    "labels_gray = {}\n",
    "for i in range(len(index_select)):\n",
    "    index = index_select[i] \n",
    "    #print(label_name[y_train[index]])\n",
    "    labels_gray[i] = label_name[y_train[index]][1].decode('ascii')\n",
    "    images_gray[i] = X_train_gray[index]\n",
    "\n",
    "\n",
    "plot_sign_images(images_gray, int(plt_sz/plt_per_line), plt_per_line , labels_gray, cmap='gray')"
   ]
  },
  {
   "cell_type": "code",
   "execution_count": 10,
   "metadata": {},
   "outputs": [
    {
     "data": {
      "image/png": "[encoded data removed]",
      "text/plain": [
       "<matplotlib.figure.Figure at 0x7f78a13d7f60>"
      ]
     },
     "metadata": {},
     "output_type": "display_data"
    }
   ],
   "source": [
    "# normalized the data set\n",
    "X_train_gray_norm = (X_train_gray-128)/128\n",
    "X_test_gray_norm = (X_test_gray-128)/128 \n",
    "X_valid_gray_norm = (X_valid_gray-128)/128\n",
    "X_train_gray_aug_norm= (X_train_gray_aug-128)/128\n",
    "\n",
    "images_gray_norm = {}\n",
    "labels_gray_norm = {}\n",
    "for i in range(len(index_select)):\n",
    "    index = index_select[i] \n",
    "    labels_gray_norm[i] = label_name[y_train[index]][1].decode('ascii')\n",
    "    images_gray_norm[i] = X_train_gray_norm[index]\n",
    "\n",
    "plot_sign_images(images_gray_norm, int(plt_sz/plt_per_line), plt_per_line , labels_gray_norm, cmap='gray')"
   ]
  },
  {
   "cell_type": "markdown",
   "metadata": {},
   "source": [
    "#### Model Architecture"
   ]
  },
  {
   "cell_type": "markdown",
   "metadata": {},
   "source": [
    "## LeNet Model\n",
    "The following figure is the original LeNet design from Yann LaCun's paper. \n",
    "\n",
    "![image](reports/lenet.png)\n",
    "\n",
    "\n",
    "In this project, the filter depths for the convolution layers are increased.\n",
    "\n",
    "Besides, dropout method is added for the fully connected layers.\n",
    "\n"
   ]
  },
  {
   "cell_type": "code",
   "execution_count": 11,
   "metadata": {
    "collapsed": true
   },
   "outputs": [],
   "source": [
    "### Define your architecture here.\n",
    "### Feel free to use as many code cells as needed.\n",
    "from tensorflow.contrib.layers import flatten\n",
    "\n",
    "def LeNet(x, keep_prob, depth, n_class):\n",
    "    # reference: https://github.com/zhuangh/CarND-LeNet-Lab/blob/master/LeNet-Lab.ipynb\n",
    "    # Arguments used for tf.truncated_normal, randomly defines variables for the weights and biases for each layer\n",
    "    mu = 0\n",
    "    sigma = 0.1\n",
    "    \n",
    "    # TODO: Layer 1: Convolutional. Input = 32x32xdepth. Output = 28x28xfilter_depth.\n",
    "    filter_depth = 10 #16 #6\n",
    "    conv1_Wt = tf.Variable(tf.truncated_normal(shape=(5,5, depth, filter_depth), mean=mu, stddev=sigma))\n",
    "    conv1_b = tf.Variable(tf.zeros(filter_depth))\n",
    "    conv1 = tf.nn.conv2d(x, conv1_Wt, strides=[1,1,1,1], padding='VALID')+ conv1_b\n",
    "    # Activation.\n",
    "    conv1_relu = tf.nn.relu(conv1)\n",
    "    # Pooling. Input = 28x28x6. Output = 14x14xfilter_depth.\n",
    "    conv1_maxpool = tf.nn.max_pool(conv1_relu, ksize=[1,2,2,1], strides=[1,2,2,1], padding='VALID')\n",
    "\n",
    "    \n",
    "    # Layer 2: Convolutional. Output = 10x10xfilter_depth_2.\n",
    "    filter_depth_2 = 40 #64 #16\n",
    "    conv2_Wt = tf.Variable(tf.truncated_normal(shape=(5,5, filter_depth, filter_depth_2), mean=mu, stddev=sigma))\n",
    "    conv2_b = tf.Variable(tf.zeros(filter_depth_2))\n",
    "    conv2 = tf.nn.conv2d(conv1_maxpool, conv2_Wt, strides=[1,1,1,1], padding='VALID')+ conv2_b\n",
    "    # Activation.\n",
    "    conv2_relu = tf.nn.relu(conv2)\n",
    "\n",
    "    # Pooling. Input = 10x10xilter_depth_2. Output = 5x5xilter_depth_2.\n",
    "    conv2_maxpool = tf.nn.max_pool(conv2_relu, ksize=[1,2,2,1], strides=[1,2,2,1], padding='VALID')\n",
    "\n",
    "    # Flatten. Input = 5x5xilter_depth_2. Output = 400.\n",
    "    fl = flatten(conv2_maxpool)\n",
    "    \n",
    "    # Layer 3: Fully Connected. Input = 400. Output = 120.\n",
    "    # input filter_depth_2*25\n",
    "    s_input = filter_depth_2*25 # 400\n",
    "    s_output = 240 # 120\n",
    "    fl3_Wt = tf.Variable(tf.truncated_normal(shape=(s_input, s_output), mean = mu, stddev = sigma))\n",
    "    fl3_b = tf.Variable(tf.zeros(s_output))\n",
    "    fl3 = tf.matmul(fl, fl3_Wt) + fl3_b\n",
    "    \n",
    "    # Activation.\n",
    "    fl3_relu = tf.nn.relu(fl3)\n",
    "    fl3_relu = tf.nn.dropout(fl3_relu, keep_prob)\n",
    "    \n",
    "    # Layer 4: Fully Connected. Input = 120. Output = 84.\n",
    "    fl4_Wt = tf.Variable(tf.truncated_normal(shape=(s_output, 84), mean = mu, stddev = sigma))\n",
    "    fl4_b = tf.Variable(tf.zeros(84))\n",
    "    fl4 = tf.matmul(fl3_relu, fl4_Wt) + fl4_b\n",
    "    \n",
    "    # Activation.\n",
    "    fl4_relu = tf.nn.relu(fl4)\n",
    "    fl4_relu = tf.nn.dropout(fl4_relu, keep_prob)\n",
    "    \n",
    "    # Layer 5: Fully Connected. Input = 84. Output = n_class.\n",
    "    fl5_Wt = tf.Variable(tf.truncated_normal(shape=(84, n_class), mean = mu, stddev = sigma))\n",
    "    fl5_b = tf.Variable(tf.zeros(n_class))\n",
    "    logits = tf.matmul(fl4_relu, fl5_Wt) + fl5_b\n",
    "\n",
    "    return logits\n"
   ]
  },
  {
   "cell_type": "markdown",
   "metadata": {},
   "source": [
    "----\n",
    "\n",
    "## Step 2: Design and Test a Model Architecture\n",
    "\n",
    "Design and implement a deep learning model that learns to recognize traffic signs. Train and test your model on the [German Traffic Sign Dataset](http://benchmark.ini.rub.de/?section=gtsrb&subsection=dataset).\n",
    "\n",
    "The LeNet-5 implementation shown in the [classroom](https://classroom.udacity.com/nanodegrees/nd013/parts/fbf77062-5703-404e-b60c-95b78b2f3f9e/modules/6df7ae49-c61c-4bb2-a23e-6527e69209ec/lessons/601ae704-1035-4287-8b11-e2c2716217ad/concepts/d4aca031-508f-4e0b-b493-e7b706120f81) at the end of the CNN lesson is a solid starting point. You'll have to change the number of classes and possibly the preprocessing, but aside from that it's plug and play! \n",
    "\n",
    "With the LeNet-5 solution from the lecture, you should expect a validation set accuracy of about 0.89. To meet specifications, the validation set accuracy will need to be at least 0.93. It is possible to get an even higher accuracy, but 0.93 is the minimum for a successful project submission. \n",
    "\n",
    "There are various aspects to consider when thinking about this problem:\n",
    "\n",
    "- Neural network architecture (is the network over or underfitting?)\n",
    "- Play around preprocessing techniques (normalization, rgb to grayscale, etc)\n",
    "- Number of examples per label (some have more than others).\n",
    "- Generate fake data.\n",
    "\n",
    "Here is an example of a [published baseline model on this problem](http://yann.lecun.com/exdb/publis/pdf/sermanet-ijcnn-11.pdf). It's not required to be familiar with the approach used in the paper but, it's good practice to try to read papers like these."
   ]
  },
  {
   "cell_type": "markdown",
   "metadata": {},
   "source": [
    "### Train, Validate and Test the Model"
   ]
  },
  {
   "cell_type": "markdown",
   "metadata": {},
   "source": [
    "A validation set can be used to assess how well the model is performing. A low accuracy on the training and validation\n",
    "sets imply underfitting. A high accuracy on the training set but low accuracy on the validation set implies overfitting."
   ]
  },
  {
   "cell_type": "code",
   "execution_count": 12,
   "metadata": {},
   "outputs": [
    {
     "name": "stdout",
     "output_type": "stream",
     "text": [
      "(208794, 32, 32, 1)\n",
      "Image channels used: 1\n"
     ]
    }
   ],
   "source": [
    "### Train your model here.\n",
    "### Calculate and report the accuracy on the training and validation set.\n",
    "### Once a final model architecture is selected, \n",
    "### the accuracy on the test set should be calculated and reported as well.\n",
    "### Feel free to use as many code cells as needed.\n",
    "# Ref: https://github.com/zhuangh/CarND-LeNet-Lab/blob/master/LeNet-Lab.ipynb\n",
    "\n",
    "X_train = X_train_gray_aug_norm\n",
    "y_train = y_train_aug\n",
    "\n",
    "X_test = X_test_gray_norm\n",
    "X_valid = X_valid_gray_norm\n",
    "print(X_train.shape)\n",
    "image_channels = X_train.shape[3]\n",
    "print(\"Image channels used:\", image_channels)\n",
    "\n",
    "x = tf.placeholder(tf.float32, (None, 32, 32, image_channels))\n",
    "y = tf.placeholder(tf.int32, (None))\n",
    "one_hot_y = tf.one_hot(y, n_classes)\n",
    "keep_prob = tf.placeholder(tf.float32)\n",
    "\n",
    "EPOCHS = 51 #51#150 #50\n",
    "BATCH_SIZE = 128 #156\n",
    "rate = 0.0008 #08 #0.00097\n",
    "\n",
    "logits = LeNet(x, keep_prob, depth=image_channels, n_class=n_classes)\n",
    "\n",
    "cross_entropy = tf.nn.softmax_cross_entropy_with_logits(logits=logits, labels=one_hot_y)\n",
    "loss_operation = tf.reduce_mean(cross_entropy)\n",
    "optimizer = tf.train.AdamOptimizer(learning_rate=rate)\n",
    "training_operation = optimizer.minimize(loss_operation)\n",
    "\n",
    "prediction = tf.argmax(logits,1)\n",
    "\n",
    "correct_prediction = tf.equal(prediction, tf.argmax(one_hot_y, 1))\n",
    "accuracy_operation = tf.reduce_mean(tf.cast(correct_prediction, tf.float32))\n",
    "saver = tf.train.Saver()"
   ]
  },
  {
   "cell_type": "code",
   "execution_count": 13,
   "metadata": {
    "collapsed": true
   },
   "outputs": [],
   "source": [
    "# evaluation\n",
    "def evaluate(X_data, y_data):\n",
    "    num_examples = len(X_data)\n",
    "    total_accuracy = 0\n",
    "    sess = tf.get_default_session()\n",
    "    for offset in range(0, num_examples, BATCH_SIZE):\n",
    "        batch_x, batch_y = X_data[offset:offset+BATCH_SIZE], y_data[offset:offset+BATCH_SIZE]\n",
    "        accuracy = sess.run(accuracy_operation, feed_dict={x: batch_x, y: batch_y, keep_prob: 1.0})\n",
    "        total_accuracy += (accuracy * len(batch_x))\n",
    "    #print(total_accuracy)\n",
    "    return total_accuracy / num_examples"
   ]
  },
  {
   "cell_type": "code",
   "execution_count": null,
   "metadata": {},
   "outputs": [
    {
     "name": "stdout",
     "output_type": "stream",
     "text": [
      "Training...\n",
      "Epoch 0:\n",
      "Train Accuracy = 0.91222\n",
      "Validation Accuracy = 0.79206\n",
      "Test Accuracy = 0.78907\n",
      "Epoch 1:\n",
      "Train Accuracy = 0.96470\n",
      "Validation Accuracy = 0.87732\n",
      "Test Accuracy = 0.86793\n",
      "Epoch 2:\n",
      "Train Accuracy = 0.98359\n",
      "Validation Accuracy = 0.91270\n",
      "Test Accuracy = 0.89272\n",
      "Epoch 3:\n",
      "Train Accuracy = 0.98712\n",
      "Validation Accuracy = 0.92063\n",
      "Test Accuracy = 0.89794\n",
      "Epoch 4:\n",
      "Train Accuracy = 0.99137\n",
      "Validation Accuracy = 0.92381\n",
      "Test Accuracy = 0.90784\n",
      "Epoch 5:\n",
      "Train Accuracy = 0.99407\n",
      "Validation Accuracy = 0.93583\n",
      "Test Accuracy = 0.91726\n",
      "Epoch 6:\n",
      "Train Accuracy = 0.99534\n",
      "Validation Accuracy = 0.94263\n",
      "Test Accuracy = 0.91647\n",
      "Epoch 7:\n",
      "Train Accuracy = 0.99655\n",
      "Validation Accuracy = 0.94490\n",
      "Test Accuracy = 0.92510\n",
      "Epoch 8:\n",
      "Train Accuracy = 0.99633\n",
      "Validation Accuracy = 0.92812\n",
      "Test Accuracy = 0.91789\n",
      "Epoch 9:\n",
      "Train Accuracy = 0.99730\n",
      "Validation Accuracy = 0.94785\n",
      "Test Accuracy = 0.92668\n",
      "Epoch 10:\n",
      "Train Accuracy = 0.99763\n",
      "Validation Accuracy = 0.94785\n",
      "Test Accuracy = 0.92716\n",
      "Epoch 11:\n",
      "Train Accuracy = 0.99790\n",
      "Validation Accuracy = 0.95465\n",
      "Test Accuracy = 0.92850\n",
      "Epoch 12:\n",
      "Train Accuracy = 0.99830\n",
      "Validation Accuracy = 0.95283\n",
      "Test Accuracy = 0.93064\n",
      "Epoch 13:\n",
      "Train Accuracy = 0.99896\n",
      "Validation Accuracy = 0.95760\n",
      "Test Accuracy = 0.93373\n",
      "Epoch 14:\n",
      "Train Accuracy = 0.99889\n",
      "Validation Accuracy = 0.96508\n",
      "Test Accuracy = 0.93626\n",
      "Epoch 15:\n",
      "Train Accuracy = 0.99913\n",
      "Validation Accuracy = 0.95102\n",
      "Test Accuracy = 0.93634\n",
      "Epoch 16:\n",
      "Train Accuracy = 0.99898\n",
      "Validation Accuracy = 0.95556\n",
      "Test Accuracy = 0.93903\n",
      "Epoch 17:\n",
      "Train Accuracy = 0.99815\n",
      "Validation Accuracy = 0.94467\n",
      "Test Accuracy = 0.93341\n",
      "Epoch 18:\n",
      "Train Accuracy = 0.99916\n",
      "Validation Accuracy = 0.94671\n",
      "Test Accuracy = 0.93864\n",
      "Epoch 19:\n",
      "Train Accuracy = 0.99879\n",
      "Validation Accuracy = 0.95193\n",
      "Test Accuracy = 0.93056\n",
      "Epoch 20:\n",
      "Train Accuracy = 0.99919\n",
      "Validation Accuracy = 0.95533\n",
      "Test Accuracy = 0.94070\n",
      "Epoch 21:\n",
      "Train Accuracy = 0.99954\n",
      "Validation Accuracy = 0.95850\n",
      "Test Accuracy = 0.93919\n",
      "Epoch 22:\n",
      "Train Accuracy = 0.99925\n",
      "Validation Accuracy = 0.96122\n",
      "Test Accuracy = 0.94078\n",
      "Epoch 23:\n",
      "Train Accuracy = 0.99897\n",
      "Validation Accuracy = 0.95442\n",
      "Test Accuracy = 0.93310\n",
      "Epoch 24:\n",
      "Train Accuracy = 0.99940\n",
      "Validation Accuracy = 0.95986\n",
      "Test Accuracy = 0.93563\n",
      "Epoch 25:\n",
      "Train Accuracy = 0.99835\n",
      "Validation Accuracy = 0.94580\n",
      "Test Accuracy = 0.93674\n",
      "Epoch 26:\n",
      "Train Accuracy = 0.99950\n",
      "Validation Accuracy = 0.95782\n",
      "Test Accuracy = 0.94355\n",
      "Epoch 27:\n",
      "Train Accuracy = 0.99949\n",
      "Validation Accuracy = 0.95896\n",
      "Test Accuracy = 0.93808\n",
      "Epoch 28:\n",
      "Train Accuracy = 0.99913\n",
      "Validation Accuracy = 0.95306\n",
      "Test Accuracy = 0.93721\n",
      "Epoch 29:\n",
      "Train Accuracy = 0.99970\n",
      "Validation Accuracy = 0.97075\n",
      "Test Accuracy = 0.94204\n",
      "Epoch 30:\n",
      "Train Accuracy = 0.99960\n",
      "Validation Accuracy = 0.95465\n",
      "Test Accuracy = 0.93682\n",
      "Epoch 31:\n",
      "Train Accuracy = 0.99936\n",
      "Validation Accuracy = 0.95351\n",
      "Test Accuracy = 0.94307\n",
      "Epoch 32:\n",
      "Train Accuracy = 0.99966\n",
      "Validation Accuracy = 0.96508\n",
      "Test Accuracy = 0.93998\n",
      "Epoch 33:\n",
      "Train Accuracy = 0.99919\n",
      "Validation Accuracy = 0.94966\n",
      "Test Accuracy = 0.93832\n",
      "Epoch 34:\n",
      "Train Accuracy = 0.99947\n",
      "Validation Accuracy = 0.95669\n",
      "Test Accuracy = 0.93397\n",
      "Epoch 35:\n",
      "Train Accuracy = 0.99974\n",
      "Validation Accuracy = 0.96145\n",
      "Test Accuracy = 0.94371\n",
      "Epoch 36:\n",
      "Train Accuracy = 0.99801\n",
      "Validation Accuracy = 0.94739\n",
      "Test Accuracy = 0.93943\n",
      "Epoch 37:\n",
      "Train Accuracy = 0.99897\n",
      "Validation Accuracy = 0.96032\n",
      "Test Accuracy = 0.94244\n",
      "Epoch 38:\n",
      "Train Accuracy = 0.99973\n",
      "Validation Accuracy = 0.96463\n",
      "Test Accuracy = 0.94173\n",
      "Epoch 39:\n",
      "Train Accuracy = 0.99914\n",
      "Validation Accuracy = 0.95601\n",
      "Test Accuracy = 0.94386\n"
     ]
    }
   ],
   "source": [
    "# training session\n",
    "with tf.Session() as sess:\n",
    "    sess.run(tf.global_variables_initializer())\n",
    "    num_train = len(X_train)\n",
    "    print(\"Training...\")   \n",
    "    train_acc_fig = []\n",
    "    valid_acc_fig = []\n",
    "    test_acc_fig = []\n",
    "    for i in range(EPOCHS):\n",
    "        X_train, y_train = shuffle(X_train, y_train)\n",
    "        for offset in range(0, num_train, BATCH_SIZE):\n",
    "            end = offset + BATCH_SIZE\n",
    "            batch_x, batch_y = X_train[offset:end], y_train[offset:end]\n",
    "            sess.run(training_operation, feed_dict={x: batch_x, y: batch_y, keep_prob: 0.5})\n",
    "        train_acc = evaluate(X_train, y_train)\n",
    "        train_acc_fig.append(train_acc)\n",
    "        valid_acc = evaluate(X_valid, y_valid)\n",
    "        valid_acc_fig.append(valid_acc)\n",
    "        test_acc = evaluate(X_test, y_test)\n",
    "        test_acc_fig.append(test_acc)\n",
    "        print(\"Epoch {}:\".format(i))\n",
    "        print(\"Train Accuracy = {:.5f}\".format(train_acc))\n",
    "        print(\"Validation Accuracy = {:.5f}\".format(valid_acc))\n",
    "        print(\"Test Accuracy = {:.5f}\".format(test_acc))    \n",
    "        #print()\n",
    "    saver.save(sess, './lenet')\n",
    "    print(\"Model saved\")"
   ]
  },
  {
   "cell_type": "code",
   "execution_count": null,
   "metadata": {},
   "outputs": [],
   "source": [
    "# test \n",
    "with tf.Session() as sess:\n",
    "    saver.restore(sess, tf.train.latest_checkpoint('.'))\n",
    "    test_accuracy = evaluate(X_test, y_test)\n",
    "    print(\"Test Accuracy = {:.2f}\".format(test_accuracy))"
   ]
  },
  {
   "cell_type": "code",
   "execution_count": null,
   "metadata": {},
   "outputs": [],
   "source": [
    "print(len(test_acc_fig))\n",
    "print(len(epoch_index))\n",
    "epoch_index = [i for i in range(EPOCHS)]\n",
    "#print(epoch_index)\n",
    "plt.figure('Accuracy Performance', figsize=(15,10))\n",
    "plt.xlabel('Epoch')\n",
    "plt.ylabel('Accuracy')\n",
    "plt.plot(epoch_index, train_acc_fig, label='Train Set')\n",
    "\n",
    "#plt.figure('Validation Accuracy Performance')\n",
    "plt.plot(epoch_index, valid_acc_fig, label='Validation Set')\n",
    "\n",
    "#plt.figure('Test Accuracy Performance')\n",
    "plt.plot(epoch_index, test_acc_fig, label='Test Set')\n",
    "plt.legend()\n",
    "plt.grid()\n"
   ]
  },
  {
   "cell_type": "markdown",
   "metadata": {},
   "source": [
    "---\n",
    "\n",
    "## Step 3: Test a Model on New Images\n",
    "\n",
    "To give yourself more insight into how your model is working, download at least five pictures of German traffic signs from the web and use your model to predict the traffic sign type.\n",
    "\n",
    "You may find `signnames.csv` useful as it contains mappings from the class id (integer) to the actual sign name."
   ]
  },
  {
   "cell_type": "markdown",
   "metadata": {},
   "source": [
    "### Load and Output the Images"
   ]
  },
  {
   "cell_type": "code",
   "execution_count": null,
   "metadata": {},
   "outputs": [],
   "source": [
    "### Load the images and plot them here.\n",
    "### Feel free to use as many code cells as needed.\n",
    "# Ref: https://github.com/zhuangh/CarND-LeNet-Lab/blob/master/LeNet-Lab.ipynb\n",
    "#print(lenet_cfg)\n",
    "    \n",
    "import glob\n",
    "import cv2 \n",
    "import matplotlib.image as mpimg\n",
    "\n",
    "signs_from_web = []\n",
    "labels = [] \n",
    "web_images = glob.glob('./new_signs/*.jpg')\n",
    "sign_names = label_name\n",
    "\n",
    "for file in web_images:\n",
    "    # get label from file, first 2 digits of filename\n",
    "    print(file)\n",
    "    label = int(file.split('/')[-1][:2])\n",
    "    print(label)\n",
    "    labels.append(label)\n",
    "    img = mpimg.imread(file)\n",
    "    resized_image = cv2.resize(img, (32, 32)) \n",
    "    signs_from_web.append(resized_image)\n",
    "\n",
    "def draw_images(data, images_per_line=5, squeeze=False, cmap=None):\n",
    "    for offset in range(0, len(data), images_per_line):\n",
    "        batch = data[offset:offset + images_per_line]\n",
    "        fig = plt.figure(figsize = (20,4))\n",
    "        for i in range(len(batch)):\n",
    "            axis = fig.add_subplot(1, len(batch), i + 1)\n",
    "            axis.set_title(sign_names[labels[offset+i]])\n",
    "            image = batch[i]\n",
    "            if squeeze: \n",
    "                image = image.squeeze()\n",
    "            if cmap == None: \n",
    "                axis.imshow(image)\n",
    "            else: \n",
    "                axis.imshow(image.squeeze(), cmap=cmap)\n",
    "        plt.show()\n",
    "        \n",
    "draw_images(signs_from_web)\n",
    "signs_from_web=np.array(signs_from_web)\n",
    "print(signs_from_web.shape)\n",
    "X_from_web = np.sum(signs_from_web/3, axis=3, keepdims=True)\n",
    "X_from_web = (X_from_web - 128)/128\n",
    "y_from_web = labels"
   ]
  },
  {
   "cell_type": "markdown",
   "metadata": {},
   "source": [
    "### Predict the Sign Type for Each Image"
   ]
  },
  {
   "cell_type": "code",
   "execution_count": null,
   "metadata": {},
   "outputs": [],
   "source": [
    "### Run the predictions here and use the model to output the prediction for each image.\n",
    "### Make sure to pre-process the images with the same pre-processing pipeline used earlier.\n",
    "### Feel free to use as many code cells as needed.\n",
    "\n",
    "with tf.Session() as sess:\n",
    "    saver.restore(sess, tf.train.latest_checkpoint('.'))\n",
    "    test_accuracy = evaluate(X_from_web, y_from_web)\n",
    "    print(\"Test Accuracy = {:.3f}\".format(test_accuracy))"
   ]
  },
  {
   "cell_type": "markdown",
   "metadata": {},
   "source": [
    "### Analyze Performance"
   ]
  },
  {
   "cell_type": "code",
   "execution_count": null,
   "metadata": {},
   "outputs": [],
   "source": [
    "### Calculate the accuracy for these 5 new images. \n",
    "### For example, if the model predicted 1 out of 5 signs correctly, it's 20% accurate on these new images.\n",
    "print(\"Test Accuracy for the new images = {:.2f}\".format(test_accuracy))   "
   ]
  },
  {
   "cell_type": "markdown",
   "metadata": {},
   "source": [
    "### Output Top 5 Softmax Probabilities For Each Image Found on the Web"
   ]
  },
  {
   "cell_type": "markdown",
   "metadata": {},
   "source": [
    "For each of the new images, print out the model's softmax probabilities to show the **certainty** of the model's predictions (limit the output to the top 5 probabilities for each image). [`tf.nn.top_k`](https://www.tensorflow.org/versions/r0.12/api_docs/python/nn.html#top_k) could prove helpful here. \n",
    "\n",
    "The example below demonstrates how tf.nn.top_k can be used to find the top k predictions for each image.\n",
    "\n",
    "`tf.nn.top_k` will return the values and indices (class ids) of the top k predictions. So if k=3, for each sign, it'll return the 3 largest probabilities (out of a possible 43) and the correspoding class ids.\n",
    "\n",
    "Take this numpy array as an example. The values in the array represent predictions. The array contains softmax probabilities for five candidate images with six possible classes. `tf.nn.top_k` is used to choose the three classes with the highest probability:\n",
    "\n",
    "```\n",
    "# (5, 6) array\n",
    "a = np.array([[ 0.24879643,  0.07032244,  0.12641572,  0.34763842,  0.07893497,\n",
    "         0.12789202],\n",
    "       [ 0.28086119,  0.27569815,  0.08594638,  0.0178669 ,  0.18063401,\n",
    "         0.15899337],\n",
    "       [ 0.26076848,  0.23664738,  0.08020603,  0.07001922,  0.1134371 ,\n",
    "         0.23892179],\n",
    "       [ 0.11943333,  0.29198961,  0.02605103,  0.26234032,  0.1351348 ,\n",
    "         0.16505091],\n",
    "       [ 0.09561176,  0.34396535,  0.0643941 ,  0.16240774,  0.24206137,\n",
    "         0.09155967]])\n",
    "```\n",
    "\n",
    "Running it through `sess.run(tf.nn.top_k(tf.constant(a), k=3))` produces:\n",
    "\n",
    "```\n",
    "TopKV2(values=array([[ 0.34763842,  0.24879643,  0.12789202],\n",
    "       [ 0.28086119,  0.27569815,  0.18063401],\n",
    "       [ 0.26076848,  0.23892179,  0.23664738],\n",
    "       [ 0.29198961,  0.26234032,  0.16505091],\n",
    "       [ 0.34396535,  0.24206137,  0.16240774]]), indices=array([[3, 0, 5],\n",
    "       [0, 1, 4],\n",
    "       [0, 5, 1],\n",
    "       [1, 3, 5],\n",
    "       [1, 4, 3]], dtype=int32))\n",
    "```\n",
    "\n",
    "Looking just at the first row we get `[ 0.34763842,  0.24879643,  0.12789202]`, you can confirm these are the 3 largest probabilities in `a`. You'll also notice `[3, 0, 5]` are the corresponding indices."
   ]
  },
  {
   "cell_type": "code",
   "execution_count": null,
   "metadata": {},
   "outputs": [],
   "source": [
    "### Print out the top five softmax probabilities for the predictions on the German traffic sign images found on the web. \n",
    "### Feel free to use as many code cells as needed.\n",
    "\n",
    "TOPK = 5\n",
    "\n",
    "with tf.Session() as sess:\n",
    "    saver.restore(sess, tf.train.latest_checkpoint('.'))\n",
    "    top = sess.run(tf.nn.top_k(tf.nn.softmax(logits), k=TOPK), feed_dict={x:X_from_web, keep_prob: 1.0})\n",
    "\n",
    "\n",
    "for i in range(len(web_images)):\n",
    "    f, (axes1, axes2) = plt.subplots(1, 2, sharey=False, sharex=False)\n",
    "    f.suptitle(\"Label {}\".format(sign_names[labels[i]]))\n",
    "    axes1.imshow(signs_from_web[i])\n",
    "    axes2.barh(range(TOPK), top.values[i], align='center')\n",
    "    axes2.set_yticks(range(TOPK))\n",
    "    axes2.set_yticklabels(sign_names[top[1][i].astype(int)])\n",
    "    axes2.tick_params(labelleft='off', labelright='on')"
   ]
  },
  {
   "cell_type": "code",
   "execution_count": null,
   "metadata": {
    "collapsed": true
   },
   "outputs": [],
   "source": [
    "# Get the prediction of the test set\n",
    "with tf.Session() as sess:\n",
    "    saver.restore(sess, './lenet')\n",
    "    y_pred = sess.run(prediction, feed_dict={x: X_test, y: y_test, keep_prob: 1.0})"
   ]
  },
  {
   "cell_type": "code",
   "execution_count": null,
   "metadata": {},
   "outputs": [],
   "source": [
    "import seaborn as sn\n",
    "from sklearn import metrics\n",
    "\n",
    "print(\"Precision\", metrics.precision_score(y_test, y_pred, average='macro'))\n",
    "print(\"Recall\", metrics.recall_score(y_test, y_pred, average='micro'))\n",
    "cf_mat =  metrics.confusion_matrix(y_test, y_pred)\n",
    "\n",
    "print('Confusion matrix')\n",
    "plt.figure(figsize=(20,20))\n",
    "sn.heatmap(cf_mat, annot=True)"
   ]
  },
  {
   "cell_type": "markdown",
   "metadata": {},
   "source": [
    "### Project Writeup\n",
    "\n",
    "Once you have completed the code implementation, document your results in a project writeup using this [template](https://github.com/udacity/CarND-Traffic-Sign-Classifier-Project/blob/master/writeup_template.md) as a guide. The writeup can be in a markdown or pdf file. "
   ]
  },
  {
   "cell_type": "markdown",
   "metadata": {},
   "source": [
    "> **Note**: Once you have completed all of the code implementations and successfully answered each question above, you may finalize your work by exporting the iPython Notebook as an HTML document. You can do this by using the menu above and navigating to  \\n\",\n",
    "    \"**File -> Download as -> HTML (.html)**. Include the finished document along with this notebook as your submission."
   ]
  }
 ],
 "metadata": {
  "anaconda-cloud": {},
  "kernelspec": {
   "display_name": "Python 3",
   "language": "python",
   "name": "python3"
  },
  "language_info": {
   "codemirror_mode": {
    "name": "ipython",
    "version": 3
   },
   "file_extension": ".py",
   "mimetype": "text/x-python",
   "name": "python",
   "nbconvert_exporter": "python",
   "pygments_lexer": "ipython3",
   "version": "3.5.2"
  },
  "widgets": {
   "state": {},
   "version": "1.1.2"
  }
 },
 "nbformat": 4,
 "nbformat_minor": 1
}
